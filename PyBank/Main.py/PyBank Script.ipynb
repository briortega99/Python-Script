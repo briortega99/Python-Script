{
 "cells": [
  {
   "cell_type": "code",
   "execution_count": 25,
   "id": "cfe5c320",
   "metadata": {},
   "outputs": [
    {
     "name": "stdout",
     "output_type": "stream",
     "text": [
      "Financial Analysis\n",
      "---------------------------\n",
      "Total Months : 86\n",
      "Total : $22564198\n",
      "Average Change : $-8311.11\n",
      "Greatest Increase in Profits : Aug-16 ($1862002)\n",
      "Greatest Decrease in Profits : Feb-14 ($-1825558)\n"
     ]
    }
   ],
   "source": [
    "import csv\n",
    "import os\n",
    "\n",
    "budget_csv = os.path.join(\"..\", \"Resources\", \"budget_data.csv\")\n",
    "export_file = os.path.join(\"..\", \"Analysis.txt\")\n",
    "\n",
    "total_months = 0\n",
    "net_total = 0\n",
    "net_change_list = []\n",
    "month_of_changes = []\n",
    "increase = [\"\", 0]\n",
    "decrease = [\"\", 9999999999]\n",
    "\n",
    "\n",
    "with open(budget_csv) as budget_data:\n",
    "    reader = csv.reader(budget_data)\n",
    "    header = next(reader)    \n",
    "    first_row = next(reader)\n",
    "    total_months += 1\n",
    "    net_total += int(first_row[1])\n",
    "    previous_net = int(first_row[1])\n",
    "    \n",
    "    for row in reader:\n",
    "        total_months += 1\n",
    "        net_total += int(row[1])\n",
    "        net_change = int(row[1]) - previous_net\n",
    "        previous_net = int(row[1])\n",
    "        net_change_list += [net_change]\n",
    "        \n",
    "        if(net_change > increase[1]):\n",
    "                increase[0] = row[0]\n",
    "                increase[1] = net_change\n",
    "                \n",
    "        if(net_change < decrease[1]):\n",
    "            decrease[0] = row[0]\n",
    "            decrease[1] = net_change\n",
    "        \n",
    "average_change = sum(net_change_list) / len(net_change_list)\n",
    "\n",
    "analysis = (\n",
    "f\"Financial Analysis\\n\"\n",
    "f\"---------------------------\\n\"\n",
    "f\"Total Months : {total_months}\\n\"\n",
    "f\"Total : ${net_total}\\n\"\n",
    "f\"Average Change : ${average_change:.2f}\\n\"\n",
    "f\"Greatest Increase in Profits : {increase[0]} (${increase[1]})\\n\"\n",
    "f\"Greatest Decrease in Profits : {decrease[0]} (${decrease[1]})\"\n",
    ")\n",
    "print(analysis)\n",
    "\n",
    "with open(export_file, \"w\") as results:\n",
    "    results.write(analysis)"
   ]
  }
 ],
 "metadata": {
  "kernelspec": {
   "display_name": "Python 3 (ipykernel)",
   "language": "python",
   "name": "python3"
  },
  "language_info": {
   "codemirror_mode": {
    "name": "ipython",
    "version": 3
   },
   "file_extension": ".py",
   "mimetype": "text/x-python",
   "name": "python",
   "nbconvert_exporter": "python",
   "pygments_lexer": "ipython3",
   "version": "3.11.4"
  }
 },
 "nbformat": 4,
 "nbformat_minor": 5
}
