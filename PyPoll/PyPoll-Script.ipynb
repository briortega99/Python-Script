{
 "cells": [
  {
   "cell_type": "code",
   "execution_count": 23,
   "id": "3464a9bd",
   "metadata": {},
   "outputs": [
    {
     "name": "stdout",
     "output_type": "stream",
     "text": [
      "Election Results\n",
      "-------------------------\n",
      "Total Votes : 369711\n",
      "-------------------------\n",
      "\n",
      "Charles Casper Stockham : 23.049% (85213)\n",
      "\n",
      "Diana DeGette : 73.812% (272892)\n",
      "\n",
      "Raymon Anthony Doane : 3.139% (11606)\n",
      "\n",
      "-------------------------\n",
      "Winner : Diana DeGette\n",
      "-------------------------\n",
      "\n"
     ]
    }
   ],
   "source": [
    "import csv\n",
    "import os\n",
    "\n",
    "election_csv = os.path.join(\".\", \"Resources\", \"election_data.csv\")\n",
    "export_file = os.path.join(\".\", \"Analysis.txt\")\n",
    "\n",
    "total_votes = 0\n",
    "candidate_votes = {}\n",
    "candidate_list = []\n",
    "winning_candidate = \"\"\n",
    "winning_vote = 0\n",
    "\n",
    "with open(election_csv) as election_data:\n",
    "    reader = csv.reader(election_data)\n",
    "    header = next(reader)\n",
    "    \n",
    "    for row in reader:\n",
    "        total_votes += 1\n",
    "        candidate_name = row[2]\n",
    "        \n",
    "        if candidate_name not in candidate_list:\n",
    "            candidate_list.append(candidate_name)\n",
    "            candidate_votes[candidate_name] = 0\n",
    "        \n",
    "        candidate_votes[candidate_name] += 1\n",
    "\n",
    "with open (export_file, \"w\") as txt_file:\n",
    "    \n",
    "    results = (\n",
    "    f\"Election Results\\n\"\n",
    "    f\"-------------------------\\n\"\n",
    "    f\"Total Votes : {total_votes}\\n\"\n",
    "    f\"-------------------------\\n\")\n",
    "    print(results)\n",
    "\n",
    "    txt_file.write(results)\n",
    "\n",
    "    for candidate in candidate_votes:\n",
    "        votes = candidate_votes[candidate]\n",
    "        vote_percentage = float(votes) / float(total_votes) * 100\n",
    "        \n",
    "        if(votes > winning_vote):\n",
    "            winning_vote = votes\n",
    "            winning_candidate = candidate\n",
    "            \n",
    "        voter_results = f\"{candidate} : {vote_percentage:.3f}% ({votes})\\n\"\n",
    "        print(voter_results)\n",
    "    \n",
    "        txt_file.write(voter_results)\n",
    "        \n",
    "    winner = (\n",
    "        f\"-------------------------\\n\"\n",
    "        f\"Winner : {winning_candidate}\\n\"\n",
    "        f\"-------------------------\\n\")\n",
    "    print(winner) \n",
    "    \n",
    "    txt_file.write(winner)"
   ]
  },
  {
   "cell_type": "code",
   "execution_count": null,
   "id": "f21c6a65",
   "metadata": {},
   "outputs": [],
   "source": []
  }
 ],
 "metadata": {
  "kernelspec": {
   "display_name": "Python 3 (ipykernel)",
   "language": "python",
   "name": "python3"
  },
  "language_info": {
   "codemirror_mode": {
    "name": "ipython",
    "version": 3
   },
   "file_extension": ".py",
   "mimetype": "text/x-python",
   "name": "python",
   "nbconvert_exporter": "python",
   "pygments_lexer": "ipython3",
   "version": "3.11.4"
  }
 },
 "nbformat": 4,
 "nbformat_minor": 5
}
